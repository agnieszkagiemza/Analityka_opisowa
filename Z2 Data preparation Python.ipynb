{
 "cells": [
  {
   "cell_type": "markdown",
   "metadata": {},
   "source": [
    "1. Wejdzmy na https://github.com/agnieszkagiemza/Analityka_opisowa i pobierzmy zbiór o nazwie \"Z2 data.xlsx\".\n",
    "2. Tworzymy sobie folder na komputerze np o nazwie \"Laboratoria\" i wklejamy tam nasz plik.\n",
    "3. Ustawiamy ten folder jako folder roboczy i zaczynamy.\n",
    "   "
   ]
  },
  {
   "cell_type": "markdown",
   "metadata": {},
   "source": [
    "# Na czym polega zadanie?\n",
    "1. Naszym zadaniem była analiza danych konkretnych samochodów, który były dostępne na sprzedaż w okolicy.\n",
    "2. Jednak okazało się, że dane które przekazała nam osoba za nie odpowiedzialna nie są takiej jakości, jakiej byśmy oczekiwali- najprawdopodobniej pochodziły z websrapingu.\n",
    "3. Takie surowe dane należy najpiewr odpowiednio przetworzyć i zestandaryzować, aby móc przeprowadzić analizę.\n"
   ]
  },
  {
   "cell_type": "markdown",
   "metadata": {},
   "source": [
    "### Wczytanie danych\n",
    "   Pierwszym podstawowym pakietem przy pracy z pythonem jest pandas\n",
    "   Aby można było z niego korzystać, oczywiście należy go najpiew zainstalować\n",
    "   1. Bezpośrednio w komórce za pomocą komendy !pip install pandas\n",
    "   2. Bądź w terminalu za pomocą komendy pip install pandas\n",
    "   3. Jeżeli to mamy już za sobą to możemy wczytać bibliotekę pandas za pomocą komendy\n"
   ]
  },
  {
   "cell_type": "code",
   "execution_count": 83,
   "metadata": {},
   "outputs": [],
   "source": [
    "import pandas as pd"
   ]
  },
  {
   "cell_type": "markdown",
   "metadata": {},
   "source": [
    "Aby wczytać dane z pliku excel uzywamy komendy i wpisemy nazwę bliku, który chcemy wczytać"
   ]
  },
  {
   "cell_type": "code",
   "execution_count": 84,
   "metadata": {},
   "outputs": [],
   "source": [
    "df=pd.read_excel('Z2 data.xlsx')"
   ]
  },
  {
   "cell_type": "markdown",
   "metadata": {},
   "source": [
    "Wyświetlamy 5 pierwszych wierszy za pomocą komendy head(), wspisując w nawiasie liczbę możemy zwiekszyć/zmiejszyć liczbę wyświetlanych wierszy.\n",
    "Ile maksymalnie wierszy Widok nam wyświetli?"
   ]
  },
  {
   "cell_type": "code",
   "execution_count": 85,
   "metadata": {},
   "outputs": [
    {
     "data": {
      "text/html": [
       "<div>\n",
       "<style scoped>\n",
       "    .dataframe tbody tr th:only-of-type {\n",
       "        vertical-align: middle;\n",
       "    }\n",
       "\n",
       "    .dataframe tbody tr th {\n",
       "        vertical-align: top;\n",
       "    }\n",
       "\n",
       "    .dataframe thead th {\n",
       "        text-align: right;\n",
       "    }\n",
       "</style>\n",
       "<table border=\"1\" class=\"dataframe\">\n",
       "  <thead>\n",
       "    <tr style=\"text-align: right;\">\n",
       "      <th></th>\n",
       "      <th>Cena</th>\n",
       "      <th>Nazwa</th>\n",
       "      <th>Miejcowość</th>\n",
       "      <th>Przebieg</th>\n",
       "      <th>Pojemnosc</th>\n",
       "      <th>Moc</th>\n",
       "      <th>Oferta</th>\n",
       "    </tr>\n",
       "  </thead>\n",
       "  <tbody>\n",
       "    <tr>\n",
       "      <th>0</th>\n",
       "      <td>119 000</td>\n",
       "      <td>Volkswagen Tiguan 2.0 TDI SCR 4MOTION (BlueMot...</td>\n",
       "      <td>Przemyśl</td>\n",
       "      <td>55,5 tys.</td>\n",
       "      <td>1968</td>\n",
       "      <td>150</td>\n",
       "      <td>Firma</td>\n",
       "    </tr>\n",
       "    <tr>\n",
       "      <th>1</th>\n",
       "      <td>125 900</td>\n",
       "      <td>DS Automobiles DS 7 Crossback 1.6 E-Tense 4x4 ...</td>\n",
       "      <td>Strzyżów</td>\n",
       "      <td>136 tys.</td>\n",
       "      <td>1598</td>\n",
       "      <td>200</td>\n",
       "      <td>Firma</td>\n",
       "    </tr>\n",
       "    <tr>\n",
       "      <th>2</th>\n",
       "      <td>129 000</td>\n",
       "      <td>Mercedes-Benz Klasa E 220 d 4Matic T All-Terra...</td>\n",
       "      <td>Krosno</td>\n",
       "      <td>185 tys.</td>\n",
       "      <td>1950</td>\n",
       "      <td>194</td>\n",
       "      <td>Prywatna</td>\n",
       "    </tr>\n",
       "    <tr>\n",
       "      <th>3</th>\n",
       "      <td>130 000</td>\n",
       "      <td>Mercedes-Benz Klasa C 63 AMG T 7G-TRONIC Perfo...</td>\n",
       "      <td>Krosno</td>\n",
       "      <td>123 tys.</td>\n",
       "      <td>6208</td>\n",
       "      <td>487</td>\n",
       "      <td>Firma</td>\n",
       "    </tr>\n",
       "    <tr>\n",
       "      <th>4</th>\n",
       "      <td>14 900</td>\n",
       "      <td>Smart Fortwo coupe softouch black&amp;white limite...</td>\n",
       "      <td>Krosno</td>\n",
       "      <td>108 tys.</td>\n",
       "      <td>999</td>\n",
       "      <td>61</td>\n",
       "      <td>Prywatna</td>\n",
       "    </tr>\n",
       "  </tbody>\n",
       "</table>\n",
       "</div>"
      ],
      "text/plain": [
       "      Cena                                              Nazwa Miejcowość  \\\n",
       "0  119 000  Volkswagen Tiguan 2.0 TDI SCR 4MOTION (BlueMot...   Przemyśl   \n",
       "1  125 900  DS Automobiles DS 7 Crossback 1.6 E-Tense 4x4 ...   Strzyżów   \n",
       "2  129 000  Mercedes-Benz Klasa E 220 d 4Matic T All-Terra...     Krosno   \n",
       "3  130 000  Mercedes-Benz Klasa C 63 AMG T 7G-TRONIC Perfo...     Krosno   \n",
       "4   14 900  Smart Fortwo coupe softouch black&white limite...     Krosno   \n",
       "\n",
       "    Przebieg  Pojemnosc  Moc     Oferta  \n",
       "0  55,5 tys.       1968  150     Firma   \n",
       "1   136 tys.       1598  200     Firma   \n",
       "2   185 tys.       1950  194  Prywatna   \n",
       "3   123 tys.       6208  487     Firma   \n",
       "4   108 tys.        999   61  Prywatna   "
      ]
     },
     "execution_count": 85,
     "metadata": {},
     "output_type": "execute_result"
    }
   ],
   "source": [
    "df.head()"
   ]
  },
  {
   "cell_type": "markdown",
   "metadata": {},
   "source": [
    "Co widzimy?\n",
    "Jakie problemy z danymi występują?"
   ]
  },
  {
   "cell_type": "markdown",
   "metadata": {},
   "source": [
    "Komendą describe otrzymujemy podobny widok do head(), ale mamy także informację ile zbiór danych ma kolumn i wierszy."
   ]
  },
  {
   "cell_type": "code",
   "execution_count": 86,
   "metadata": {},
   "outputs": [
    {
     "data": {
      "text/plain": [
       "<bound method NDFrame.describe of        Cena                                              Nazwa Miejcowość  \\\n",
       "0   119 000  Volkswagen Tiguan 2.0 TDI SCR 4MOTION (BlueMot...   Przemyśl   \n",
       "1   125 900  DS Automobiles DS 7 Crossback 1.6 E-Tense 4x4 ...   Strzyżów   \n",
       "2   129 000  Mercedes-Benz Klasa E 220 d 4Matic T All-Terra...     Krosno   \n",
       "3   130 000  Mercedes-Benz Klasa C 63 AMG T 7G-TRONIC Perfo...     Krosno   \n",
       "4    14 900  Smart Fortwo coupe softouch black&white limite...     Krosno   \n",
       "..      ...                                                ...        ...   \n",
       "95  160 000  Volvo XC 90 T8 AWD Plug-In Hybrid Inscription ...   Strzyżów   \n",
       "96  107 900  BMW Seria 5 520d Efficient Dynamics Luxury Lin...   Strzyżów   \n",
       "97  107 900  BMW Seria 5 520d Efficient Dynamics Luxury Lin...    Rzeszów   \n",
       "98  108 000  Audi A5 2.0 TDI clean diesel Quattro S tronic ...    Rzeszów   \n",
       "99  108 000  Mercedes-Benz Klasa E 220 d 4-Matic 9G-TRONIC ...    Rzeszów   \n",
       "\n",
       "      Przebieg  Pojemnosc  Moc     Oferta  \n",
       "0    55,5 tys.       1968  150     Firma   \n",
       "1     136 tys.       1598  200     Firma   \n",
       "2     185 tys.       1950  194  Prywatna   \n",
       "3     123 tys.       6208  487     Firma   \n",
       "4     108 tys.        999   61  Prywatna   \n",
       "..         ...        ...  ...        ...  \n",
       "95  126,7 tys.       1969  320     Firma   \n",
       "96  173,5 tys.       1995  190  Prywatna   \n",
       "97  173,5 tys.       1995  190  Prywatna   \n",
       "98  130,5 tys.       1968  190  Prywatna   \n",
       "99    138 tys.       1950  195  Prywatna   \n",
       "\n",
       "[100 rows x 7 columns]>"
      ]
     },
     "execution_count": 86,
     "metadata": {},
     "output_type": "execute_result"
    }
   ],
   "source": [
    "df.describe"
   ]
  },
  {
   "cell_type": "code",
   "execution_count": null,
   "metadata": {},
   "outputs": [],
   "source": [
    "# Zanim zaczniemy usuwamy. duplikaty!\n",
    "df = df.drop_duplicates()"
   ]
  },
  {
   "cell_type": "code",
   "execution_count": null,
   "metadata": {},
   "outputs": [],
   "source": [
    "df.describe # czy coś się zmieniło?"
   ]
  },
  {
   "cell_type": "markdown",
   "metadata": {},
   "source": [
    "Zanim zaczniemy \"poprawiać dane\" naturalnym krokiem jest sprawdzenie typów zmiennych.\n",
    "Robimy to komendą dtypes. Czy wszystkie typy zmiennych są prawidłowe?"
   ]
  },
  {
   "cell_type": "code",
   "execution_count": 87,
   "metadata": {},
   "outputs": [
    {
     "data": {
      "text/plain": [
       "Cena          object\n",
       "Nazwa         object\n",
       "Miejcowość    object\n",
       "Przebieg      object\n",
       "Pojemnosc      int64\n",
       "Moc            int64\n",
       "Oferta        object\n",
       "dtype: object"
      ]
     },
     "execution_count": 87,
     "metadata": {},
     "output_type": "execute_result"
    }
   ],
   "source": [
    "df.dtypes"
   ]
  },
  {
   "cell_type": "markdown",
   "metadata": {},
   "source": [
    "Cena i przebieg powinny być numeryczne a nie są. Z czego to wynika?"
   ]
  },
  {
   "cell_type": "markdown",
   "metadata": {},
   "source": [
    "Zobaczmy do zmniennej Cena.\n",
    "Do kolumn w Pythonie można odwoływać sie na dwa? sposoby. \n",
    "Który lepszy?"
   ]
  },
  {
   "cell_type": "code",
   "execution_count": 88,
   "metadata": {},
   "outputs": [
    {
     "data": {
      "text/plain": [
       "0     119 000\n",
       "1     125 900\n",
       "2     129 000\n",
       "3     130 000\n",
       "4      14 900\n",
       "       ...   \n",
       "95    160 000\n",
       "96    107 900\n",
       "97    107 900\n",
       "98    108 000\n",
       "99    108 000\n",
       "Name: Cena, Length: 100, dtype: object"
      ]
     },
     "execution_count": 88,
     "metadata": {},
     "output_type": "execute_result"
    }
   ],
   "source": [
    "df.Cena"
   ]
  },
  {
   "cell_type": "code",
   "execution_count": 89,
   "metadata": {},
   "outputs": [
    {
     "data": {
      "text/plain": [
       "0     119 000\n",
       "1     125 900\n",
       "2     129 000\n",
       "3     130 000\n",
       "4      14 900\n",
       "       ...   \n",
       "95    160 000\n",
       "96    107 900\n",
       "97    107 900\n",
       "98    108 000\n",
       "99    108 000\n",
       "Name: Cena, Length: 100, dtype: object"
      ]
     },
     "execution_count": 89,
     "metadata": {},
     "output_type": "execute_result"
    }
   ],
   "source": [
    "df['Cena']"
   ]
  },
  {
   "cell_type": "markdown",
   "metadata": {},
   "source": [
    "Przerwy w cenach można pozbyć się na dwa sposoby.\n",
    "1. Uzyjąć wyrażeń regularnych i wyciągnąć liczby z wyrażenia z pomocą wyrazenia ANY- NON WHITESPACE CHARACTER. Strona [regex101](https://regex101.com/)\n",
    "2. Usuwając spację i zamieniająć zmienną na typ numeryczny"
   ]
  },
  {
   "cell_type": "code",
   "execution_count": 90,
   "metadata": {},
   "outputs": [
    {
     "name": "stderr",
     "output_type": "stream",
     "text": [
      "C:\\Users\\giemzaa\\AppData\\Local\\Temp\\ipykernel_1340\\1949079314.py:5: UserWarning: Pandas doesn't allow columns to be created via a new attribute name - see https://pandas.pydata.org/pandas-docs/stable/indexing.html#attribute-access\n",
      "  df.cena1= df['Cena'].apply(lambda x: re.sub(r'\\s+', '', x))\n"
     ]
    },
    {
     "data": {
      "text/plain": [
       "0     119000\n",
       "1     125900\n",
       "2     129000\n",
       "3     130000\n",
       "4      14900\n",
       "       ...  \n",
       "95    160000\n",
       "96    107900\n",
       "97    107900\n",
       "98    108000\n",
       "99    108000\n",
       "Name: Cena, Length: 100, dtype: object"
      ]
     },
     "execution_count": 90,
     "metadata": {},
     "output_type": "execute_result"
    }
   ],
   "source": [
    "#Wyrażenie regularne powinny działać bez dodatkowej instalacji\n",
    "import re\n",
    "\n",
    "# 1 sposób\n",
    "df.cena1= df['Cena'].apply(lambda x: re.sub(r'\\s+', '', x))\n",
    "\n",
    "df.cena1"
   ]
  },
  {
   "cell_type": "code",
   "execution_count": 91,
   "metadata": {},
   "outputs": [
    {
     "data": {
      "text/plain": [
       "0     119000\n",
       "1     125900\n",
       "2     129000\n",
       "3     130000\n",
       "4      14900\n",
       "       ...  \n",
       "95    160000\n",
       "96    107900\n",
       "97    107900\n",
       "98    108000\n",
       "99    108000\n",
       "Name: Cena, Length: 100, dtype: int32"
      ]
     },
     "execution_count": 91,
     "metadata": {},
     "output_type": "execute_result"
    }
   ],
   "source": [
    "df.cena1=df.cena1.astype(int)\n",
    "df.cena1"
   ]
  },
  {
   "cell_type": "code",
   "execution_count": 92,
   "metadata": {},
   "outputs": [
    {
     "data": {
      "text/plain": [
       "0     119000\n",
       "1     125900\n",
       "2     129000\n",
       "3     130000\n",
       "4      14900\n",
       "       ...  \n",
       "95    160000\n",
       "96    107900\n",
       "97    107900\n",
       "98    108000\n",
       "99    108000\n",
       "Name: Cena, Length: 100, dtype: object"
      ]
     },
     "execution_count": 92,
     "metadata": {},
     "output_type": "execute_result"
    }
   ],
   "source": [
    "# 2. Sposób usuwamy za pomocą funkcji replace\n",
    "df['Cena'] = df['Cena'].apply(lambda x: x.replace(' ', ''))\n",
    "df.Cena"
   ]
  },
  {
   "cell_type": "code",
   "execution_count": 93,
   "metadata": {},
   "outputs": [],
   "source": [
    "df.Cena=df.Cena.astype(int)"
   ]
  },
  {
   "cell_type": "markdown",
   "metadata": {},
   "source": [
    "Zakładamy, że cena samochody jest już ok. Usuwamy niepotrzebną kolumnę cena1."
   ]
  },
  {
   "cell_type": "code",
   "execution_count": 94,
   "metadata": {},
   "outputs": [
    {
     "ename": "KeyError",
     "evalue": "\"['cena1'] not found in axis\"",
     "output_type": "error",
     "traceback": [
      "\u001b[1;31m---------------------------------------------------------------------------\u001b[0m",
      "\u001b[1;31mKeyError\u001b[0m                                  Traceback (most recent call last)",
      "Cell \u001b[1;32mIn[94], line 1\u001b[0m\n\u001b[1;32m----> 1\u001b[0m df \u001b[38;5;241m=\u001b[39m \u001b[43mdf\u001b[49m\u001b[38;5;241;43m.\u001b[39;49m\u001b[43mdrop\u001b[49m\u001b[43m(\u001b[49m\u001b[38;5;124;43m'\u001b[39;49m\u001b[38;5;124;43mcena1\u001b[39;49m\u001b[38;5;124;43m'\u001b[39;49m\u001b[43m,\u001b[49m\u001b[43m \u001b[49m\u001b[43maxis\u001b[49m\u001b[38;5;241;43m=\u001b[39;49m\u001b[38;5;241;43m1\u001b[39;49m\u001b[43m)\u001b[49m\n",
      "File \u001b[1;32mc:\\Users\\giemzaa\\AppData\\Local\\Programs\\Python\\Python312\\Lib\\site-packages\\pandas\\core\\frame.py:5581\u001b[0m, in \u001b[0;36mDataFrame.drop\u001b[1;34m(self, labels, axis, index, columns, level, inplace, errors)\u001b[0m\n\u001b[0;32m   5433\u001b[0m \u001b[38;5;28;01mdef\u001b[39;00m \u001b[38;5;21mdrop\u001b[39m(\n\u001b[0;32m   5434\u001b[0m     \u001b[38;5;28mself\u001b[39m,\n\u001b[0;32m   5435\u001b[0m     labels: IndexLabel \u001b[38;5;241m|\u001b[39m \u001b[38;5;28;01mNone\u001b[39;00m \u001b[38;5;241m=\u001b[39m \u001b[38;5;28;01mNone\u001b[39;00m,\n\u001b[1;32m   (...)\u001b[0m\n\u001b[0;32m   5442\u001b[0m     errors: IgnoreRaise \u001b[38;5;241m=\u001b[39m \u001b[38;5;124m\"\u001b[39m\u001b[38;5;124mraise\u001b[39m\u001b[38;5;124m\"\u001b[39m,\n\u001b[0;32m   5443\u001b[0m ) \u001b[38;5;241m-\u001b[39m\u001b[38;5;241m>\u001b[39m DataFrame \u001b[38;5;241m|\u001b[39m \u001b[38;5;28;01mNone\u001b[39;00m:\n\u001b[0;32m   5444\u001b[0m \u001b[38;5;250m    \u001b[39m\u001b[38;5;124;03m\"\"\"\u001b[39;00m\n\u001b[0;32m   5445\u001b[0m \u001b[38;5;124;03m    Drop specified labels from rows or columns.\u001b[39;00m\n\u001b[0;32m   5446\u001b[0m \n\u001b[1;32m   (...)\u001b[0m\n\u001b[0;32m   5579\u001b[0m \u001b[38;5;124;03m            weight  1.0     0.8\u001b[39;00m\n\u001b[0;32m   5580\u001b[0m \u001b[38;5;124;03m    \"\"\"\u001b[39;00m\n\u001b[1;32m-> 5581\u001b[0m     \u001b[38;5;28;01mreturn\u001b[39;00m \u001b[38;5;28;43msuper\u001b[39;49m\u001b[43m(\u001b[49m\u001b[43m)\u001b[49m\u001b[38;5;241;43m.\u001b[39;49m\u001b[43mdrop\u001b[49m\u001b[43m(\u001b[49m\n\u001b[0;32m   5582\u001b[0m \u001b[43m        \u001b[49m\u001b[43mlabels\u001b[49m\u001b[38;5;241;43m=\u001b[39;49m\u001b[43mlabels\u001b[49m\u001b[43m,\u001b[49m\n\u001b[0;32m   5583\u001b[0m \u001b[43m        \u001b[49m\u001b[43maxis\u001b[49m\u001b[38;5;241;43m=\u001b[39;49m\u001b[43maxis\u001b[49m\u001b[43m,\u001b[49m\n\u001b[0;32m   5584\u001b[0m \u001b[43m        \u001b[49m\u001b[43mindex\u001b[49m\u001b[38;5;241;43m=\u001b[39;49m\u001b[43mindex\u001b[49m\u001b[43m,\u001b[49m\n\u001b[0;32m   5585\u001b[0m \u001b[43m        \u001b[49m\u001b[43mcolumns\u001b[49m\u001b[38;5;241;43m=\u001b[39;49m\u001b[43mcolumns\u001b[49m\u001b[43m,\u001b[49m\n\u001b[0;32m   5586\u001b[0m \u001b[43m        \u001b[49m\u001b[43mlevel\u001b[49m\u001b[38;5;241;43m=\u001b[39;49m\u001b[43mlevel\u001b[49m\u001b[43m,\u001b[49m\n\u001b[0;32m   5587\u001b[0m \u001b[43m        \u001b[49m\u001b[43minplace\u001b[49m\u001b[38;5;241;43m=\u001b[39;49m\u001b[43minplace\u001b[49m\u001b[43m,\u001b[49m\n\u001b[0;32m   5588\u001b[0m \u001b[43m        \u001b[49m\u001b[43merrors\u001b[49m\u001b[38;5;241;43m=\u001b[39;49m\u001b[43merrors\u001b[49m\u001b[43m,\u001b[49m\n\u001b[0;32m   5589\u001b[0m \u001b[43m    \u001b[49m\u001b[43m)\u001b[49m\n",
      "File \u001b[1;32mc:\\Users\\giemzaa\\AppData\\Local\\Programs\\Python\\Python312\\Lib\\site-packages\\pandas\\core\\generic.py:4788\u001b[0m, in \u001b[0;36mNDFrame.drop\u001b[1;34m(self, labels, axis, index, columns, level, inplace, errors)\u001b[0m\n\u001b[0;32m   4786\u001b[0m \u001b[38;5;28;01mfor\u001b[39;00m axis, labels \u001b[38;5;129;01min\u001b[39;00m axes\u001b[38;5;241m.\u001b[39mitems():\n\u001b[0;32m   4787\u001b[0m     \u001b[38;5;28;01mif\u001b[39;00m labels \u001b[38;5;129;01mis\u001b[39;00m \u001b[38;5;129;01mnot\u001b[39;00m \u001b[38;5;28;01mNone\u001b[39;00m:\n\u001b[1;32m-> 4788\u001b[0m         obj \u001b[38;5;241m=\u001b[39m \u001b[43mobj\u001b[49m\u001b[38;5;241;43m.\u001b[39;49m\u001b[43m_drop_axis\u001b[49m\u001b[43m(\u001b[49m\u001b[43mlabels\u001b[49m\u001b[43m,\u001b[49m\u001b[43m \u001b[49m\u001b[43maxis\u001b[49m\u001b[43m,\u001b[49m\u001b[43m \u001b[49m\u001b[43mlevel\u001b[49m\u001b[38;5;241;43m=\u001b[39;49m\u001b[43mlevel\u001b[49m\u001b[43m,\u001b[49m\u001b[43m \u001b[49m\u001b[43merrors\u001b[49m\u001b[38;5;241;43m=\u001b[39;49m\u001b[43merrors\u001b[49m\u001b[43m)\u001b[49m\n\u001b[0;32m   4790\u001b[0m \u001b[38;5;28;01mif\u001b[39;00m inplace:\n\u001b[0;32m   4791\u001b[0m     \u001b[38;5;28mself\u001b[39m\u001b[38;5;241m.\u001b[39m_update_inplace(obj)\n",
      "File \u001b[1;32mc:\\Users\\giemzaa\\AppData\\Local\\Programs\\Python\\Python312\\Lib\\site-packages\\pandas\\core\\generic.py:4830\u001b[0m, in \u001b[0;36mNDFrame._drop_axis\u001b[1;34m(self, labels, axis, level, errors, only_slice)\u001b[0m\n\u001b[0;32m   4828\u001b[0m         new_axis \u001b[38;5;241m=\u001b[39m axis\u001b[38;5;241m.\u001b[39mdrop(labels, level\u001b[38;5;241m=\u001b[39mlevel, errors\u001b[38;5;241m=\u001b[39merrors)\n\u001b[0;32m   4829\u001b[0m     \u001b[38;5;28;01melse\u001b[39;00m:\n\u001b[1;32m-> 4830\u001b[0m         new_axis \u001b[38;5;241m=\u001b[39m \u001b[43maxis\u001b[49m\u001b[38;5;241;43m.\u001b[39;49m\u001b[43mdrop\u001b[49m\u001b[43m(\u001b[49m\u001b[43mlabels\u001b[49m\u001b[43m,\u001b[49m\u001b[43m \u001b[49m\u001b[43merrors\u001b[49m\u001b[38;5;241;43m=\u001b[39;49m\u001b[43merrors\u001b[49m\u001b[43m)\u001b[49m\n\u001b[0;32m   4831\u001b[0m     indexer \u001b[38;5;241m=\u001b[39m axis\u001b[38;5;241m.\u001b[39mget_indexer(new_axis)\n\u001b[0;32m   4833\u001b[0m \u001b[38;5;66;03m# Case for non-unique axis\u001b[39;00m\n\u001b[0;32m   4834\u001b[0m \u001b[38;5;28;01melse\u001b[39;00m:\n",
      "File \u001b[1;32mc:\\Users\\giemzaa\\AppData\\Local\\Programs\\Python\\Python312\\Lib\\site-packages\\pandas\\core\\indexes\\base.py:7070\u001b[0m, in \u001b[0;36mIndex.drop\u001b[1;34m(self, labels, errors)\u001b[0m\n\u001b[0;32m   7068\u001b[0m \u001b[38;5;28;01mif\u001b[39;00m mask\u001b[38;5;241m.\u001b[39many():\n\u001b[0;32m   7069\u001b[0m     \u001b[38;5;28;01mif\u001b[39;00m errors \u001b[38;5;241m!=\u001b[39m \u001b[38;5;124m\"\u001b[39m\u001b[38;5;124mignore\u001b[39m\u001b[38;5;124m\"\u001b[39m:\n\u001b[1;32m-> 7070\u001b[0m         \u001b[38;5;28;01mraise\u001b[39;00m \u001b[38;5;167;01mKeyError\u001b[39;00m(\u001b[38;5;124mf\u001b[39m\u001b[38;5;124m\"\u001b[39m\u001b[38;5;132;01m{\u001b[39;00mlabels[mask]\u001b[38;5;241m.\u001b[39mtolist()\u001b[38;5;132;01m}\u001b[39;00m\u001b[38;5;124m not found in axis\u001b[39m\u001b[38;5;124m\"\u001b[39m)\n\u001b[0;32m   7071\u001b[0m     indexer \u001b[38;5;241m=\u001b[39m indexer[\u001b[38;5;241m~\u001b[39mmask]\n\u001b[0;32m   7072\u001b[0m \u001b[38;5;28;01mreturn\u001b[39;00m \u001b[38;5;28mself\u001b[39m\u001b[38;5;241m.\u001b[39mdelete(indexer)\n",
      "\u001b[1;31mKeyError\u001b[0m: \"['cena1'] not found in axis\""
     ]
    }
   ],
   "source": [
    "df = df.drop('cena1', axis=1)"
   ]
  },
  {
   "cell_type": "code",
   "execution_count": 48,
   "metadata": {},
   "outputs": [
    {
     "data": {
      "text/plain": [
       "Index(['Cena', 'Nazwa', 'Miejcowość', 'Przebieg', 'Pojemnosc', 'Moc',\n",
       "       'Oferta'],\n",
       "      dtype='object')"
      ]
     },
     "execution_count": 48,
     "metadata": {},
     "output_type": "execute_result"
    }
   ],
   "source": [
    "df.columns"
   ]
  },
  {
   "cell_type": "code",
   "execution_count": 49,
   "metadata": {},
   "outputs": [
    {
     "data": {
      "text/plain": [
       "0     119000\n",
       "1     125900\n",
       "2     129000\n",
       "3     130000\n",
       "4      14900\n",
       "       ...  \n",
       "95    160000\n",
       "96    107900\n",
       "97    107900\n",
       "98    108000\n",
       "99    108000\n",
       "Name: Cena, Length: 100, dtype: int32"
      ]
     },
     "execution_count": 49,
     "metadata": {},
     "output_type": "execute_result"
    }
   ],
   "source": [
    "df.Cena"
   ]
  },
  {
   "cell_type": "markdown",
   "metadata": {},
   "source": [
    "## Ćwiczenie\n",
    "Poprawcie zmienną przebieg - 5 min"
   ]
  },
  {
   "cell_type": "code",
   "execution_count": 95,
   "metadata": {},
   "outputs": [
    {
     "data": {
      "text/plain": [
       "0      55,5 tys.\n",
       "1       136 tys.\n",
       "2       185 tys.\n",
       "3       123 tys.\n",
       "4       108 tys.\n",
       "         ...    \n",
       "95    126,7 tys.\n",
       "96    173,5 tys.\n",
       "97    173,5 tys.\n",
       "98    130,5 tys.\n",
       "99      138 tys.\n",
       "Name: Przebieg, Length: 100, dtype: object"
      ]
     },
     "execution_count": 95,
     "metadata": {},
     "output_type": "execute_result"
    }
   ],
   "source": [
    "df.Przebieg"
   ]
  },
  {
   "cell_type": "code",
   "execution_count": 96,
   "metadata": {},
   "outputs": [],
   "source": [
    "# Krok 1: Usuń 'tys.' i spacje\n",
    "df['Przebieg'] = df['Przebieg'].str.replace(' tys.', '').str.replace(' ', '')\n"
   ]
  },
  {
   "cell_type": "code",
   "execution_count": 97,
   "metadata": {},
   "outputs": [
    {
     "ename": "ValueError",
     "evalue": "could not convert string to float: '55,5'",
     "output_type": "error",
     "traceback": [
      "\u001b[1;31m---------------------------------------------------------------------------\u001b[0m",
      "\u001b[1;31mValueError\u001b[0m                                Traceback (most recent call last)",
      "Cell \u001b[1;32mIn[97], line 2\u001b[0m\n\u001b[0;32m      1\u001b[0m \u001b[38;5;66;03m# Krok 2: Zamień na typ numeryczny (float)\u001b[39;00m\n\u001b[1;32m----> 2\u001b[0m df[\u001b[38;5;124m'\u001b[39m\u001b[38;5;124mPrzebieg\u001b[39m\u001b[38;5;124m'\u001b[39m] \u001b[38;5;241m=\u001b[39m \u001b[43mdf\u001b[49m\u001b[43m[\u001b[49m\u001b[38;5;124;43m'\u001b[39;49m\u001b[38;5;124;43mPrzebieg\u001b[39;49m\u001b[38;5;124;43m'\u001b[39;49m\u001b[43m]\u001b[49m\u001b[38;5;241;43m.\u001b[39;49m\u001b[43mastype\u001b[49m\u001b[43m(\u001b[49m\u001b[38;5;28;43mfloat\u001b[39;49m\u001b[43m)\u001b[49m\n",
      "File \u001b[1;32mc:\\Users\\giemzaa\\AppData\\Local\\Programs\\Python\\Python312\\Lib\\site-packages\\pandas\\core\\generic.py:6643\u001b[0m, in \u001b[0;36mNDFrame.astype\u001b[1;34m(self, dtype, copy, errors)\u001b[0m\n\u001b[0;32m   6637\u001b[0m     results \u001b[38;5;241m=\u001b[39m [\n\u001b[0;32m   6638\u001b[0m         ser\u001b[38;5;241m.\u001b[39mastype(dtype, copy\u001b[38;5;241m=\u001b[39mcopy, errors\u001b[38;5;241m=\u001b[39merrors) \u001b[38;5;28;01mfor\u001b[39;00m _, ser \u001b[38;5;129;01min\u001b[39;00m \u001b[38;5;28mself\u001b[39m\u001b[38;5;241m.\u001b[39mitems()\n\u001b[0;32m   6639\u001b[0m     ]\n\u001b[0;32m   6641\u001b[0m \u001b[38;5;28;01melse\u001b[39;00m:\n\u001b[0;32m   6642\u001b[0m     \u001b[38;5;66;03m# else, only a single dtype is given\u001b[39;00m\n\u001b[1;32m-> 6643\u001b[0m     new_data \u001b[38;5;241m=\u001b[39m \u001b[38;5;28;43mself\u001b[39;49m\u001b[38;5;241;43m.\u001b[39;49m\u001b[43m_mgr\u001b[49m\u001b[38;5;241;43m.\u001b[39;49m\u001b[43mastype\u001b[49m\u001b[43m(\u001b[49m\u001b[43mdtype\u001b[49m\u001b[38;5;241;43m=\u001b[39;49m\u001b[43mdtype\u001b[49m\u001b[43m,\u001b[49m\u001b[43m \u001b[49m\u001b[43mcopy\u001b[49m\u001b[38;5;241;43m=\u001b[39;49m\u001b[43mcopy\u001b[49m\u001b[43m,\u001b[49m\u001b[43m \u001b[49m\u001b[43merrors\u001b[49m\u001b[38;5;241;43m=\u001b[39;49m\u001b[43merrors\u001b[49m\u001b[43m)\u001b[49m\n\u001b[0;32m   6644\u001b[0m     res \u001b[38;5;241m=\u001b[39m \u001b[38;5;28mself\u001b[39m\u001b[38;5;241m.\u001b[39m_constructor_from_mgr(new_data, axes\u001b[38;5;241m=\u001b[39mnew_data\u001b[38;5;241m.\u001b[39maxes)\n\u001b[0;32m   6645\u001b[0m     \u001b[38;5;28;01mreturn\u001b[39;00m res\u001b[38;5;241m.\u001b[39m__finalize__(\u001b[38;5;28mself\u001b[39m, method\u001b[38;5;241m=\u001b[39m\u001b[38;5;124m\"\u001b[39m\u001b[38;5;124mastype\u001b[39m\u001b[38;5;124m\"\u001b[39m)\n",
      "File \u001b[1;32mc:\\Users\\giemzaa\\AppData\\Local\\Programs\\Python\\Python312\\Lib\\site-packages\\pandas\\core\\internals\\managers.py:430\u001b[0m, in \u001b[0;36mBaseBlockManager.astype\u001b[1;34m(self, dtype, copy, errors)\u001b[0m\n\u001b[0;32m    427\u001b[0m \u001b[38;5;28;01melif\u001b[39;00m using_copy_on_write():\n\u001b[0;32m    428\u001b[0m     copy \u001b[38;5;241m=\u001b[39m \u001b[38;5;28;01mFalse\u001b[39;00m\n\u001b[1;32m--> 430\u001b[0m \u001b[38;5;28;01mreturn\u001b[39;00m \u001b[38;5;28;43mself\u001b[39;49m\u001b[38;5;241;43m.\u001b[39;49m\u001b[43mapply\u001b[49m\u001b[43m(\u001b[49m\n\u001b[0;32m    431\u001b[0m \u001b[43m    \u001b[49m\u001b[38;5;124;43m\"\u001b[39;49m\u001b[38;5;124;43mastype\u001b[39;49m\u001b[38;5;124;43m\"\u001b[39;49m\u001b[43m,\u001b[49m\n\u001b[0;32m    432\u001b[0m \u001b[43m    \u001b[49m\u001b[43mdtype\u001b[49m\u001b[38;5;241;43m=\u001b[39;49m\u001b[43mdtype\u001b[49m\u001b[43m,\u001b[49m\n\u001b[0;32m    433\u001b[0m \u001b[43m    \u001b[49m\u001b[43mcopy\u001b[49m\u001b[38;5;241;43m=\u001b[39;49m\u001b[43mcopy\u001b[49m\u001b[43m,\u001b[49m\n\u001b[0;32m    434\u001b[0m \u001b[43m    \u001b[49m\u001b[43merrors\u001b[49m\u001b[38;5;241;43m=\u001b[39;49m\u001b[43merrors\u001b[49m\u001b[43m,\u001b[49m\n\u001b[0;32m    435\u001b[0m \u001b[43m    \u001b[49m\u001b[43musing_cow\u001b[49m\u001b[38;5;241;43m=\u001b[39;49m\u001b[43musing_copy_on_write\u001b[49m\u001b[43m(\u001b[49m\u001b[43m)\u001b[49m\u001b[43m,\u001b[49m\n\u001b[0;32m    436\u001b[0m \u001b[43m\u001b[49m\u001b[43m)\u001b[49m\n",
      "File \u001b[1;32mc:\\Users\\giemzaa\\AppData\\Local\\Programs\\Python\\Python312\\Lib\\site-packages\\pandas\\core\\internals\\managers.py:363\u001b[0m, in \u001b[0;36mBaseBlockManager.apply\u001b[1;34m(self, f, align_keys, **kwargs)\u001b[0m\n\u001b[0;32m    361\u001b[0m         applied \u001b[38;5;241m=\u001b[39m b\u001b[38;5;241m.\u001b[39mapply(f, \u001b[38;5;241m*\u001b[39m\u001b[38;5;241m*\u001b[39mkwargs)\n\u001b[0;32m    362\u001b[0m     \u001b[38;5;28;01melse\u001b[39;00m:\n\u001b[1;32m--> 363\u001b[0m         applied \u001b[38;5;241m=\u001b[39m \u001b[38;5;28;43mgetattr\u001b[39;49m\u001b[43m(\u001b[49m\u001b[43mb\u001b[49m\u001b[43m,\u001b[49m\u001b[43m \u001b[49m\u001b[43mf\u001b[49m\u001b[43m)\u001b[49m\u001b[43m(\u001b[49m\u001b[38;5;241;43m*\u001b[39;49m\u001b[38;5;241;43m*\u001b[39;49m\u001b[43mkwargs\u001b[49m\u001b[43m)\u001b[49m\n\u001b[0;32m    364\u001b[0m     result_blocks \u001b[38;5;241m=\u001b[39m extend_blocks(applied, result_blocks)\n\u001b[0;32m    366\u001b[0m out \u001b[38;5;241m=\u001b[39m \u001b[38;5;28mtype\u001b[39m(\u001b[38;5;28mself\u001b[39m)\u001b[38;5;241m.\u001b[39mfrom_blocks(result_blocks, \u001b[38;5;28mself\u001b[39m\u001b[38;5;241m.\u001b[39maxes)\n",
      "File \u001b[1;32mc:\\Users\\giemzaa\\AppData\\Local\\Programs\\Python\\Python312\\Lib\\site-packages\\pandas\\core\\internals\\blocks.py:758\u001b[0m, in \u001b[0;36mBlock.astype\u001b[1;34m(self, dtype, copy, errors, using_cow, squeeze)\u001b[0m\n\u001b[0;32m    755\u001b[0m         \u001b[38;5;28;01mraise\u001b[39;00m \u001b[38;5;167;01mValueError\u001b[39;00m(\u001b[38;5;124m\"\u001b[39m\u001b[38;5;124mCan not squeeze with more than one column.\u001b[39m\u001b[38;5;124m\"\u001b[39m)\n\u001b[0;32m    756\u001b[0m     values \u001b[38;5;241m=\u001b[39m values[\u001b[38;5;241m0\u001b[39m, :]  \u001b[38;5;66;03m# type: ignore[call-overload]\u001b[39;00m\n\u001b[1;32m--> 758\u001b[0m new_values \u001b[38;5;241m=\u001b[39m \u001b[43mastype_array_safe\u001b[49m\u001b[43m(\u001b[49m\u001b[43mvalues\u001b[49m\u001b[43m,\u001b[49m\u001b[43m \u001b[49m\u001b[43mdtype\u001b[49m\u001b[43m,\u001b[49m\u001b[43m \u001b[49m\u001b[43mcopy\u001b[49m\u001b[38;5;241;43m=\u001b[39;49m\u001b[43mcopy\u001b[49m\u001b[43m,\u001b[49m\u001b[43m \u001b[49m\u001b[43merrors\u001b[49m\u001b[38;5;241;43m=\u001b[39;49m\u001b[43merrors\u001b[49m\u001b[43m)\u001b[49m\n\u001b[0;32m    760\u001b[0m new_values \u001b[38;5;241m=\u001b[39m maybe_coerce_values(new_values)\n\u001b[0;32m    762\u001b[0m refs \u001b[38;5;241m=\u001b[39m \u001b[38;5;28;01mNone\u001b[39;00m\n",
      "File \u001b[1;32mc:\\Users\\giemzaa\\AppData\\Local\\Programs\\Python\\Python312\\Lib\\site-packages\\pandas\\core\\dtypes\\astype.py:237\u001b[0m, in \u001b[0;36mastype_array_safe\u001b[1;34m(values, dtype, copy, errors)\u001b[0m\n\u001b[0;32m    234\u001b[0m     dtype \u001b[38;5;241m=\u001b[39m dtype\u001b[38;5;241m.\u001b[39mnumpy_dtype\n\u001b[0;32m    236\u001b[0m \u001b[38;5;28;01mtry\u001b[39;00m:\n\u001b[1;32m--> 237\u001b[0m     new_values \u001b[38;5;241m=\u001b[39m \u001b[43mastype_array\u001b[49m\u001b[43m(\u001b[49m\u001b[43mvalues\u001b[49m\u001b[43m,\u001b[49m\u001b[43m \u001b[49m\u001b[43mdtype\u001b[49m\u001b[43m,\u001b[49m\u001b[43m \u001b[49m\u001b[43mcopy\u001b[49m\u001b[38;5;241;43m=\u001b[39;49m\u001b[43mcopy\u001b[49m\u001b[43m)\u001b[49m\n\u001b[0;32m    238\u001b[0m \u001b[38;5;28;01mexcept\u001b[39;00m (\u001b[38;5;167;01mValueError\u001b[39;00m, \u001b[38;5;167;01mTypeError\u001b[39;00m):\n\u001b[0;32m    239\u001b[0m     \u001b[38;5;66;03m# e.g. _astype_nansafe can fail on object-dtype of strings\u001b[39;00m\n\u001b[0;32m    240\u001b[0m     \u001b[38;5;66;03m#  trying to convert to float\u001b[39;00m\n\u001b[0;32m    241\u001b[0m     \u001b[38;5;28;01mif\u001b[39;00m errors \u001b[38;5;241m==\u001b[39m \u001b[38;5;124m\"\u001b[39m\u001b[38;5;124mignore\u001b[39m\u001b[38;5;124m\"\u001b[39m:\n",
      "File \u001b[1;32mc:\\Users\\giemzaa\\AppData\\Local\\Programs\\Python\\Python312\\Lib\\site-packages\\pandas\\core\\dtypes\\astype.py:182\u001b[0m, in \u001b[0;36mastype_array\u001b[1;34m(values, dtype, copy)\u001b[0m\n\u001b[0;32m    179\u001b[0m     values \u001b[38;5;241m=\u001b[39m values\u001b[38;5;241m.\u001b[39mastype(dtype, copy\u001b[38;5;241m=\u001b[39mcopy)\n\u001b[0;32m    181\u001b[0m \u001b[38;5;28;01melse\u001b[39;00m:\n\u001b[1;32m--> 182\u001b[0m     values \u001b[38;5;241m=\u001b[39m \u001b[43m_astype_nansafe\u001b[49m\u001b[43m(\u001b[49m\u001b[43mvalues\u001b[49m\u001b[43m,\u001b[49m\u001b[43m \u001b[49m\u001b[43mdtype\u001b[49m\u001b[43m,\u001b[49m\u001b[43m \u001b[49m\u001b[43mcopy\u001b[49m\u001b[38;5;241;43m=\u001b[39;49m\u001b[43mcopy\u001b[49m\u001b[43m)\u001b[49m\n\u001b[0;32m    184\u001b[0m \u001b[38;5;66;03m# in pandas we don't store numpy str dtypes, so convert to object\u001b[39;00m\n\u001b[0;32m    185\u001b[0m \u001b[38;5;28;01mif\u001b[39;00m \u001b[38;5;28misinstance\u001b[39m(dtype, np\u001b[38;5;241m.\u001b[39mdtype) \u001b[38;5;129;01mand\u001b[39;00m \u001b[38;5;28missubclass\u001b[39m(values\u001b[38;5;241m.\u001b[39mdtype\u001b[38;5;241m.\u001b[39mtype, \u001b[38;5;28mstr\u001b[39m):\n",
      "File \u001b[1;32mc:\\Users\\giemzaa\\AppData\\Local\\Programs\\Python\\Python312\\Lib\\site-packages\\pandas\\core\\dtypes\\astype.py:133\u001b[0m, in \u001b[0;36m_astype_nansafe\u001b[1;34m(arr, dtype, copy, skipna)\u001b[0m\n\u001b[0;32m    129\u001b[0m     \u001b[38;5;28;01mraise\u001b[39;00m \u001b[38;5;167;01mValueError\u001b[39;00m(msg)\n\u001b[0;32m    131\u001b[0m \u001b[38;5;28;01mif\u001b[39;00m copy \u001b[38;5;129;01mor\u001b[39;00m arr\u001b[38;5;241m.\u001b[39mdtype \u001b[38;5;241m==\u001b[39m \u001b[38;5;28mobject\u001b[39m \u001b[38;5;129;01mor\u001b[39;00m dtype \u001b[38;5;241m==\u001b[39m \u001b[38;5;28mobject\u001b[39m:\n\u001b[0;32m    132\u001b[0m     \u001b[38;5;66;03m# Explicit copy, or required since NumPy can't view from / to object.\u001b[39;00m\n\u001b[1;32m--> 133\u001b[0m     \u001b[38;5;28;01mreturn\u001b[39;00m \u001b[43marr\u001b[49m\u001b[38;5;241;43m.\u001b[39;49m\u001b[43mastype\u001b[49m\u001b[43m(\u001b[49m\u001b[43mdtype\u001b[49m\u001b[43m,\u001b[49m\u001b[43m \u001b[49m\u001b[43mcopy\u001b[49m\u001b[38;5;241;43m=\u001b[39;49m\u001b[38;5;28;43;01mTrue\u001b[39;49;00m\u001b[43m)\u001b[49m\n\u001b[0;32m    135\u001b[0m \u001b[38;5;28;01mreturn\u001b[39;00m arr\u001b[38;5;241m.\u001b[39mastype(dtype, copy\u001b[38;5;241m=\u001b[39mcopy)\n",
      "\u001b[1;31mValueError\u001b[0m: could not convert string to float: '55,5'"
     ]
    }
   ],
   "source": [
    "# Krok 2: Zamień na typ numeryczny (float)\n",
    "df['Przebieg'] = df['Przebieg'].astype(float)"
   ]
  },
  {
   "cell_type": "markdown",
   "metadata": {},
   "source": [
    "Błąd polega na tym, że mamy przecinek a Python oczekuje kropki."
   ]
  },
  {
   "cell_type": "code",
   "execution_count": 98,
   "metadata": {},
   "outputs": [],
   "source": [
    "# Krok 2a: Zamień przecinki na kropki\n",
    "df['Przebieg'] = df['Przebieg'].str.replace(',', '.')"
   ]
  },
  {
   "cell_type": "code",
   "execution_count": 99,
   "metadata": {},
   "outputs": [],
   "source": [
    "# Krok 2a: Zamień na typ numeryczny (float)\n",
    "df['Przebieg'] = df['Przebieg'].astype(float)"
   ]
  },
  {
   "cell_type": "code",
   "execution_count": 100,
   "metadata": {},
   "outputs": [],
   "source": [
    "# Krok 3 pomnożymy przez 100\n",
    "df['Przebieg'] = df['Przebieg']*1000"
   ]
  },
  {
   "cell_type": "code",
   "execution_count": 101,
   "metadata": {},
   "outputs": [
    {
     "data": {
      "text/plain": [
       "0      55500.0\n",
       "1     136000.0\n",
       "2     185000.0\n",
       "3     123000.0\n",
       "4     108000.0\n",
       "        ...   \n",
       "95    126700.0\n",
       "96    173500.0\n",
       "97    173500.0\n",
       "98    130500.0\n",
       "99    138000.0\n",
       "Name: Przebieg, Length: 100, dtype: float64"
      ]
     },
     "execution_count": 101,
     "metadata": {},
     "output_type": "execute_result"
    }
   ],
   "source": [
    "df.Przebieg"
   ]
  },
  {
   "cell_type": "code",
   "execution_count": 102,
   "metadata": {},
   "outputs": [
    {
     "data": {
      "text/plain": [
       "Cena            int32\n",
       "Nazwa          object\n",
       "Miejcowość     object\n",
       "Przebieg      float64\n",
       "Pojemnosc       int64\n",
       "Moc             int64\n",
       "Oferta         object\n",
       "dtype: object"
      ]
     },
     "execution_count": 102,
     "metadata": {},
     "output_type": "execute_result"
    }
   ],
   "source": [
    "df.dtypes "
   ]
  },
  {
   "cell_type": "markdown",
   "metadata": {},
   "source": [
    "Wszystkie typy zmiennych są prawidłowe. Czego brakuje?\n",
    "Przyrzyjmy się zmiennej nazwa, są zawarte w niej dodatkowe informacje."
   ]
  },
  {
   "cell_type": "code",
   "execution_count": 104,
   "metadata": {},
   "outputs": [
    {
     "data": {
      "text/plain": [
       "'Volkswagen Tiguan 2.0 TDI SCR 4MOTION (BlueMotion Techn.) DSG Sound Diesel 2021'"
      ]
     },
     "execution_count": 104,
     "metadata": {},
     "output_type": "execute_result"
    }
   ],
   "source": [
    "df.Nazwa[0]"
   ]
  },
  {
   "cell_type": "code",
   "execution_count": 105,
   "metadata": {},
   "outputs": [
    {
     "data": {
      "text/plain": [
       "'DS Automobiles DS 7 Crossback 1.6 E-Tense 4x4 Performance Line + Hybryda Plug-in 2021'"
      ]
     },
     "execution_count": 105,
     "metadata": {},
     "output_type": "execute_result"
    }
   ],
   "source": [
    "df.Nazwa[1]"
   ]
  },
  {
   "cell_type": "markdown",
   "metadata": {},
   "source": [
    "Mamy informację o marce i roku produkcji"
   ]
  },
  {
   "cell_type": "markdown",
   "metadata": {},
   "source": [
    "Zaczniemy od roku, bo jest łatwiejszy.\n",
    "Wyciągniemy 4 cyfrowe ciągu cyfr uzywająć funkcji string extract"
   ]
  },
  {
   "cell_type": "code",
   "execution_count": 107,
   "metadata": {},
   "outputs": [],
   "source": [
    "df['rok_produkcji']=df['Nazwa'].str.extract(r'(\\b\\d{4}\\b)')"
   ]
  },
  {
   "cell_type": "markdown",
   "metadata": {},
   "source": [
    "Zobaczmy czy funkcja zrobiła to poprawnie"
   ]
  },
  {
   "cell_type": "code",
   "execution_count": 108,
   "metadata": {},
   "outputs": [
    {
     "data": {
      "text/plain": [
       "rok_produkcji\n",
       "2009    12\n",
       "2017    12\n",
       "2015    10\n",
       "2014     9\n",
       "2019     7\n",
       "2012     7\n",
       "2020     5\n",
       "2023     5\n",
       "2010     5\n",
       "2016     5\n",
       "2011     4\n",
       "2018     3\n",
       "2013     3\n",
       "2022     3\n",
       "2024     2\n",
       "2021     2\n",
       "2008     2\n",
       "2004     1\n",
       "2006     1\n",
       "2005     1\n",
       "2007     1\n",
       "Name: count, dtype: int64"
      ]
     },
     "execution_count": 108,
     "metadata": {},
     "output_type": "execute_result"
    }
   ],
   "source": [
    "df.rok_produkcji.value_counts()"
   ]
  },
  {
   "cell_type": "markdown",
   "metadata": {},
   "source": [
    "Druga część zadania to wyciągnięcie rodzaju paliwa.\n",
    "Sytuacja nie jest prosta. \n",
    "\n",
    "Najpierw dane trzeba pooglądać. Jakie typy paliwa są dostępne, wskazówka otomoto."
   ]
  },
  {
   "cell_type": "code",
   "execution_count": 113,
   "metadata": {},
   "outputs": [
    {
     "data": {
      "text/plain": [
       "'Mercedes-Benz Klasa A 180 CDI Autotronic Avantgarde Special Edition Diesel 2009'"
      ]
     },
     "execution_count": 113,
     "metadata": {},
     "output_type": "execute_result"
    }
   ],
   "source": [
    "df.Nazwa[7]"
   ]
  },
  {
   "cell_type": "markdown",
   "metadata": {},
   "source": [
    "Definiujemy  listę wyrażeń które chcemy wyciągań z nazw i przypisać je do rodzaju paliwa?"
   ]
  },
  {
   "cell_type": "code",
   "execution_count": 114,
   "metadata": {},
   "outputs": [],
   "source": [
    "# Definicja listy wyrażeń\n",
    "expressions = ['Benzyna','Benzyna+CNG','Benzyna+LPG', 'Diesel', 'Hybryda Plug-in', 'Hybryda','Wodór']"
   ]
  },
  {
   "cell_type": "code",
   "execution_count": 119,
   "metadata": {},
   "outputs": [],
   "source": [
    "# Funkcja do wyciągania wyrażeń z tekstu\n",
    "def extract_expressions(text):\n",
    "    found = [expr for expr in expressions if expr in text]\n",
    "    return ', '.join(found) if found else None"
   ]
  },
  {
   "cell_type": "code",
   "execution_count": 120,
   "metadata": {},
   "outputs": [],
   "source": [
    "# Zastosowanie funkcji do kolumny 'nazwa'\n",
    "df['Paliwo'] = df['Nazwa'].apply(extract_expressions)"
   ]
  },
  {
   "cell_type": "code",
   "execution_count": 122,
   "metadata": {},
   "outputs": [
    {
     "data": {
      "text/plain": [
       "Paliwo\n",
       "Diesel                      71\n",
       "Benzyna                     23\n",
       "Hybryda Plug-in, Hybryda     3\n",
       "Hybryda                      3\n",
       "Name: count, dtype: int64"
      ]
     },
     "execution_count": 122,
     "metadata": {},
     "output_type": "execute_result"
    }
   ],
   "source": [
    "df['Paliwo'].value_counts() # wszystko sparowane"
   ]
  },
  {
   "cell_type": "markdown",
   "metadata": {},
   "source": [
    "1. Czy wszystkie informacje zostały już uzyskane?\n",
    "2. Najważniejsze i najtrudniejsze na koniec - marki i modele.\n",
    "3. Czy można w sposób prosty/automatyczny wyciągnąć z nazwy marki i modele samochodów?"
   ]
  },
  {
   "cell_type": "markdown",
   "metadata": {},
   "source": [
    "Wchodzimy znów na github i pobieramy plik txt o nazwie slownik i kopiujemy zawartosc i wklejamy do komorki ponizej"
   ]
  },
  {
   "cell_type": "code",
   "execution_count": 125,
   "metadata": {},
   "outputs": [],
   "source": [
    "# Definiujemy słownik marek i modeli\n",
    "car_dict = {\n",
    "    'Audi': ['Q3', 'A5'],\n",
    "    'BMW': ['Seria 5', 'Seria 3', 'Seria 1'],\n",
    "    'Chevrolet': ['Captiva'],\n",
    "    'DS': ['7'],\n",
    "    'Fiat': ['Punto'],\n",
    "    'Ford': ['Focus'],\n",
    "    'Hyundai': ['ix35', 'i30'],\n",
    "    'Land Rover': ['Range Rover'],\n",
    "    'Mercedes-Benz': ['SL', 'Klasa V', 'Klasa S', 'Klasa E', 'Klasa C', 'Klasa A', 'GLC', 'CLS'],\n",
    "    'Opel': ['Zafira', 'Insignia', 'Corsa', 'Astra'],\n",
    "    'Renault': ['Megane'],\n",
    "    'Seat': ['Alhambra'],\n",
    "    'Smart': ['Fortwo'],\n",
    "    'Subaru': ['Forester'],\n",
    "    'Toyota': ['Proace', 'Corolla', 'Auris'],\n",
    "    'Volkswagen': ['Tiguan', 'Phaeton', 'Passat', 'Golf'],\n",
    "    'Volvo': ['XC 90']\n",
    "}\n",
    "\n",
    "# Tworzymy kolumny 'marka' i 'model'\n",
    "df['marka'] = None\n",
    "df['model'] = None\n",
    "\n",
    "# Przechodzimy przez każdy wiersz w ramce danych\n",
    "for index, row in df.iterrows():\n",
    "    for marka, modele in car_dict.items():\n",
    "        for model in modele:\n",
    "            # Sprawdzamy, czy nazwa zawiera markę i model\n",
    "            if marka in row['Nazwa'] and model in row['Nazwa']:\n",
    "                df.at[index, 'marka'] = marka\n",
    "                df.at[index, 'model'] = model\n",
    "                break  # Przerywamy wewnętrzną pętlę, gdy znajdziemy markę i model\n",
    "\n"
   ]
  },
  {
   "cell_type": "code",
   "execution_count": 127,
   "metadata": {},
   "outputs": [
    {
     "data": {
      "text/plain": [
       "marka\n",
       "Mercedes-Benz    32\n",
       "Volkswagen       23\n",
       "Opel             23\n",
       "BMW               4\n",
       "Toyota            4\n",
       "Audi              2\n",
       "Hyundai           2\n",
       "Land Rover        1\n",
       "Chevrolet         1\n",
       "Fiat              1\n",
       "Renault           1\n",
       "Seat              1\n",
       "DS                1\n",
       "Ford              1\n",
       "Subaru            1\n",
       "Smart             1\n",
       "Volvo             1\n",
       "Name: count, dtype: int64"
      ]
     },
     "execution_count": 127,
     "metadata": {},
     "output_type": "execute_result"
    }
   ],
   "source": [
    "df.marka.value_counts()"
   ]
  },
  {
   "cell_type": "code",
   "execution_count": 128,
   "metadata": {},
   "outputs": [
    {
     "data": {
      "text/plain": [
       "model\n",
       "Passat         12\n",
       "Klasa V        10\n",
       "Insignia        8\n",
       "Klasa E         7\n",
       "Corsa           6\n",
       "Astra           6\n",
       "Tiguan          5\n",
       "Golf            5\n",
       "Klasa C         5\n",
       "CLS             3\n",
       "Zafira          3\n",
       "Auris           2\n",
       "GLC             2\n",
       "Klasa S         2\n",
       "Klasa A         2\n",
       "Seria 5         2\n",
       "Punto           1\n",
       "Corolla         1\n",
       "Q3              1\n",
       "Megane          1\n",
       "Range Rover     1\n",
       "XC 90           1\n",
       "Proace          1\n",
       "Captiva         1\n",
       "Alhambra        1\n",
       "i30             1\n",
       "ix35            1\n",
       "Seria 1         1\n",
       "7               1\n",
       "Seria 3         1\n",
       "Focus           1\n",
       "SL              1\n",
       "Forester        1\n",
       "Phaeton         1\n",
       "Fortwo          1\n",
       "A5              1\n",
       "Name: count, dtype: int64"
      ]
     },
     "execution_count": 128,
     "metadata": {},
     "output_type": "execute_result"
    }
   ],
   "source": [
    "df.model.value_counts()"
   ]
  },
  {
   "cell_type": "markdown",
   "metadata": {},
   "source": [
    "## Dla chętnych\n",
    "Można dodać kolumnę  informacje dodatkowe i wyciągnać informację z kolumny Nazwa.\n"
   ]
  },
  {
   "cell_type": "code",
   "execution_count": null,
   "metadata": {},
   "outputs": [],
   "source": []
  }
 ],
 "metadata": {
  "kernelspec": {
   "display_name": "Python 3",
   "language": "python",
   "name": "python3"
  },
  "language_info": {
   "codemirror_mode": {
    "name": "ipython",
    "version": 3
   },
   "file_extension": ".py",
   "mimetype": "text/x-python",
   "name": "python",
   "nbconvert_exporter": "python",
   "pygments_lexer": "ipython3",
   "version": "3.12.5"
  }
 },
 "nbformat": 4,
 "nbformat_minor": 2
}
